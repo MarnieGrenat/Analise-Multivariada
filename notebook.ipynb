{
 "cells": [
  {
   "cell_type": "code",
   "execution_count": 7,
   "metadata": {},
   "outputs": [],
   "source": [
    "import pandas as pd\n",
    "import numpy as np\n",
    "import math"
   ]
  },
  {
   "cell_type": "markdown",
   "metadata": {},
   "source": [
    "# Questão 1 \n",
    "a) (0.5) Considerando a v.a. (X, Y) com distribuição de [Poisson bivariada](https://filipezabala.com/ea/distr-contagem.html#poisson-bivariada), obtenha λˆ1, λˆ2 e λˆ3 por máxima verossimilhança.\n",
    "\n",
    "b) (0.5) A partir do modelo obtido no item a, calcule P(X=2, Y=3). Compare com a probabilidade obtida através da proporção amostral da tabela acima.\n",
    "\n",
    "c) (0.5) A partir do modelo obtido no item a, calcule E(X), E(Y), V(X) e V(Y).\n",
    "\n",
    "d) (0.5) Calcule P(X≤2, Y≥3). Compare com a proporção amostral."
   ]
  },
  {
   "cell_type": "code",
   "execution_count": 21,
   "metadata": {},
   "outputs": [
    {
     "name": "stdout",
     "output_type": "stream",
     "text": [
      "Marginal X = [ 64 131 140  97  48  12   5   3]\n",
      "Marginal Y = [ 71 123 149  92  35  18   9   3]\n",
      "Total = 500\n"
     ]
    }
   ],
   "source": [
    "data = np.array([\n",
    "    [24, 28, 12, 6, 0, 1, 0, 0],\n",
    "    [19, 39, 41, 23, 1, 0, 0, 0],\n",
    "    [12, 45, 47, 29, 12, 3, 1, 0],\n",
    "    [7, 17, 32, 21, 14, 1, 0, 0],\n",
    "    [2, 2, 3, 11, 13, 1, 2, 1],\n",
    "    [0, 0, 3, 6, 4, 2, 2, 1],\n",
    "    [0, 0, 2, 0, 2, 4, 0, 1],\n",
    "    [0, 0, 0, 1, 2, 0, 0, 0],\n",
    "])\n",
    "# Frequências marginais\n",
    "marginal_y = np.sum(data, axis=1)  # Somas de cada linha\n",
    "marginal_x = np.sum(data, axis=0)  # Somas de cada coluna\n",
    "total = np.sum(marginal_x)  # Total de observações\n",
    "print(f\"Marginal X = {marginal_x}\")\n",
    "print(f\"Marginal Y = {marginal_y}\")\n",
    "print(f\"Total = {total}\")\n"
   ]
  },
  {
   "cell_type": "code",
   "execution_count": 28,
   "metadata": {},
   "outputs": [
    {
     "name": "stdout",
     "output_type": "stream",
     "text": [
      "λ1=62.50\n",
      "λ2=62.50\n"
     ]
    }
   ],
   "source": [
    "# λ1, λ2\n",
    "lambda_1 = np.sum(marginal_x) / len(marginal_x)  # λ1\n",
    "lambda_2 = np.sum(marginal_y) / len(marginal_y)  # λ2\n",
    "\n",
    "print(f\"λ1={lambda_1:.2f}\")\n",
    "print(f\"λ2={lambda_2:.2f}\")"
   ]
  },
  {
   "cell_type": "code",
   "execution_count": 35,
   "metadata": {},
   "outputs": [
    {
     "ename": "SyntaxError",
     "evalue": "invalid syntax (2584583973.py, line 15)",
     "output_type": "error",
     "traceback": [
      "\u001b[1;36m  Cell \u001b[1;32mIn[35], line 15\u001b[1;36m\u001b[0m\n\u001b[1;33m    print(lambda_3=)\u001b[0m\n\u001b[1;37m                   ^\u001b[0m\n\u001b[1;31mSyntaxError\u001b[0m\u001b[1;31m:\u001b[0m invalid syntax\n"
     ]
    }
   ],
   "source": [
    "# médias ponderadas\n",
    "mean_x = np.mean(np.repeat(np.arange(len(marginal_x)), marginal_x))\n",
    "mean_y = np.mean(np.repeat(np.arange(len(marginal_y)), marginal_y))\n",
    "\n",
    "# covariância = 1 / N (E(X, Y) - (E(X) * E(Y))\n",
    "cov_xy = np.sum((np.repeat(np.arange(len(marginal_x)), marginal_x) - mean_x) *\n",
    "                 (np.repeat(np.arange(len(marginal_y)), marginal_y) - mean_y)) / total\n",
    "lambda_3 = cov_xy\n",
    "\n",
    "# Resultado em R:\n",
    "#> cov_xy <- cov(X, Y)\n",
    "#> cov_xy\n",
    "# [1] 1.92982\n",
    "\n",
    "print(f\"λ3={lambda_3:.2f=}\")"
   ]
  },
  {
   "cell_type": "code",
   "execution_count": 15,
   "metadata": {},
   "outputs": [
    {
     "name": "stdout",
     "output_type": "stream",
     "text": [
      "E[X]=2.01 : E[Y]=2.01 : E[XY]=5.046\n",
      "Covariância entre X e Y: 1.0059000000000013\n",
      "λˆ1 = 2.004 \n",
      "λˆ2 = 2.01\n",
      "λˆ3 = 1.0059000000000013\n"
     ]
    }
   ],
   "source": []
  },
  {
   "cell_type": "code",
   "execution_count": null,
   "metadata": {},
   "outputs": [],
   "source": []
  }
 ],
 "metadata": {
  "kernelspec": {
   "display_name": "cpa",
   "language": "python",
   "name": "python3"
  },
  "language_info": {
   "codemirror_mode": {
    "name": "ipython",
    "version": 3
   },
   "file_extension": ".py",
   "mimetype": "text/x-python",
   "name": "python",
   "nbconvert_exporter": "python",
   "pygments_lexer": "ipython3",
   "version": "3.10.11"
  }
 },
 "nbformat": 4,
 "nbformat_minor": 2
}
