{
 "cells": [
  {
   "cell_type": "markdown",
   "metadata": {},
   "source": [
    "# Trabalho 3 - Análise Multivariada\n",
    "\n",
    "Gabriela Dellamora Paim"
   ]
  },
  {
   "cell_type": "code",
   "execution_count": 13,
   "metadata": {},
   "outputs": [],
   "source": [
    "import pandas as pd\n",
    "from math import *"
   ]
  },
  {
   "cell_type": "markdown",
   "metadata": {},
   "source": [
    "## Q1. (3.0) Foi observada uma amostra de clientes, que opiniaram com notas de 0 a 10 sobre um serviço prestado. Considere X1: pontualidade, X2: conhecimento e X3: disponibilidade."
   ]
  },
  {
   "cell_type": "code",
   "execution_count": null,
   "metadata": {},
   "outputs": [
    {
     "name": "stdout",
     "output_type": "stream",
     "text": [
      "a. (0.5) Defina n e p a partir das informações do BLOCO 1A.\n",
      "\n",
      "    X1  X2  X3\n",
      "0    6   8   3\n",
      "1   10  10   5\n",
      "2   10   9   5\n",
      "3    7   9   4\n",
      "4    7   8   3\n",
      "5    4  10   2\n",
      "6   10   8   5\n",
      "7    5  10   4\n",
      "8    8   9   4\n",
      "9    7   9   3\n",
      "10  10   8   6\n",
      "11   6  10   4\n",
      "\n",
      "n=12\n",
      "p=3\n"
     ]
    }
   ],
   "source": [
    "# A\n",
    "print('a. (0.5) Defina n e p a partir das informações do BLOCO 1A.\\n')\n",
    "bloco_a = pd.read_csv('https://filipezabala.com/data/clientes.txt', sep = '\\t')\n",
    "print(bloco_a)\n",
    "print(f'\\nn={len(bloco_a)}')\n",
    "print(f'p={len(bloco_a.columns)}')"
   ]
  },
  {
   "cell_type": "code",
   "execution_count": 39,
   "metadata": {},
   "outputs": [
    {
     "name": "stdout",
     "output_type": "stream",
     "text": [
      "b. (0.5) Indique o que são as medidas intituladas Medida 1, Medida 2 e Medida 3, calculadas no BLOCO 1B.\n",
      "\n",
      "Medida1=Vetor das Médias : Medida2=Matriz de Covariâncias : Medida3=Matriz de Correlações\n"
     ]
    }
   ],
   "source": [
    "# B # TODO\n",
    "print('b. (0.5) Indique o que são as medidas intituladas Medida 1, Medida 2 e Medida 3, calculadas no BLOCO 1B.\\n')\n",
    "\n",
    "print('Medida1=Vetor das Médias : Medida2=Matriz de Covariâncias : Medida3=Matriz de Correlações')"
   ]
  },
  {
   "cell_type": "code",
   "execution_count": null,
   "metadata": {},
   "outputs": [
    {
     "name": "stdout",
     "output_type": "stream",
     "text": [
      "c. (0.5) Apresente o passo-a-passo de como é calculado o valor -0.1889822 da matriz R e interprete-o.\n",
      "\n",
      "Primeiro, precisamos da matriz de covâriancias.\n",
      "\n",
      "          X1        X2        X3\n",
      "X1  4.454545 -0.727273  2.000000\n",
      "X2 -0.727273  0.727273 -0.181818\n",
      "X3  2.000000 -0.181818  1.272727\n",
      "\n",
      "Agora fazemos o cálculo para determinar a correlação entre X3 e X2. Essa operação é comutativa.\n",
      "cor(X2, X3) = cov_X2_x3 / sqrt(var_X2 * var_X3) = -0.181818/sqrt(0.727273 * 1.272727 = -0.1889822)\n",
      "Resultado = -0.1889822\n"
     ]
    }
   ],
   "source": [
    "# C\n",
    "print('c. (0.5) Apresente o passo-a-passo de como é calculado o valor -0.1889822 da matriz R e interprete-o.\\n')\n",
    "\n",
    "print('Primeiro, precisamos da matriz de covâriancias.\\n')\n",
    "bloco_a_cov = bloco_a.cov()\n",
    "print(bloco_a_cov)\n",
    "\n",
    "print('\\nAgora fazemos o cálculo para determinar a correlação entre X3 e X2. Essa operação é comutativa.')\n",
    "\n",
    "cov_X2_X3 = bloco_a_cov.loc['X2', 'X3']\n",
    "var_X2 = bloco_a_cov.loc['X2', 'X2']\n",
    "var_X3 = bloco_a_cov.loc['X3', 'X3']\n",
    "print(f'cor(X2, X3) = cov_X2_x3 / sqrt(var_X2 * var_X3) = {cov_X2_X3:.6f}/sqrt({var_X2:.6f} * {var_X3:.6f} = -0.1889822)')\n",
    "\n",
    "result = cov_X2_X3/sqrt(var_X3 * var_X2)\n",
    "print(f'Resultado = {result:.7f}')"
   ]
  },
  {
   "cell_type": "code",
   "execution_count": null,
   "metadata": {},
   "outputs": [
    {
     "name": "stdout",
     "output_type": "stream",
     "text": [
      "d. (0.5) No BLOCO 1C indique os testes que estão sendo realizados, suas hipóteses H0 e H1 e qual a sua decisão em cada um deles considerando α = 5%.\n",
      "\n",
      "Estão sendo testados os valores de média variável de X1, X2 e X3 diferem de 8.\n",
      "Devemos rejeitar H0 quando p-value < 0.05.\n",
      "Decisões: \n",
      "X1=Não Rejeita H0 : X2=Rejeita H0 : X3=Rejeita H0\n"
     ]
    }
   ],
   "source": [
    "# D\n",
    "print('d. (0.5) No BLOCO 1C indique os testes que estão sendo realizados, suas hipóteses H0 e H1 e qual a sua decisão em cada um deles considerando α = 5%.\\n')\n",
    "print('Estão sendo testados os valores de média variável de X1, X2 e X3 diferem de 8 caso a caso, utilizando o TESTE T (p = 1).')\n",
    "print('Devemos rejeitar H0 quando p-value < 0.05.')\n",
    "print('Decisões: \\nX1=Não Rejeita H0 : X2=Rejeita H0 : X3=Rejeita H0')"
   ]
  },
  {
   "cell_type": "code",
   "execution_count": null,
   "metadata": {},
   "outputs": [
    {
     "name": "stdout",
     "output_type": "stream",
     "text": [
      "e. (0.5) No BLOCO 1D indique qual teste está sendo realizado, quais as hipóteses H0 e H1 e qual sua decisão considerando α = 5%.\n",
      "\n",
      "Estão sendo testados os valores de média variável de X1, X2 e X3 diferem simultaneamente de 8, utilizando o TESTE DE HOTELLINGS (p > 1).\n",
      "Devemos rejeitar H0 quando p-value < 0.05.\n",
      "Decisão: \n",
      "Rejeita H0.\n"
     ]
    }
   ],
   "source": [
    "# E\n",
    "print('e. (0.5) No BLOCO 1D indique qual teste está sendo realizado, quais as hipóteses H0 e H1 e qual sua decisão considerando α = 5%.\\n')\n",
    "print('Estão sendo testados os valores de média variável de X1, X2 e X3 diferem simultaneamente de 8, utilizando o TESTE DE HOTELLINGS (p > 1).')\n",
    "print('Devemos rejeitar H0 quando p-value < 0.05.')\n",
    "print('Decisão: \\nRejeita H0.')"
   ]
  },
  {
   "cell_type": "code",
   "execution_count": 33,
   "metadata": {},
   "outputs": [
    {
     "name": "stdout",
     "output_type": "stream",
     "text": [
      "f. (0.5) Quais diferenças você identifica entre os testes realizados nos blocos 1C e 1D?\n",
      "O teste t e o teste de hotellings se diferenciam na multivariância.\n",
      "Teste t trabalha com casos univariados, portanto é testado se a média variável de Xn é igual a 8, n variando de 1 a 3.\n",
      "Teste de Hotellings trabalha com casos multivariados, podendo inclusive testar vetores de médias entre si. No teste, é validado se todos vetores possuem média variável igual a 8 simultâneamente.\n"
     ]
    }
   ],
   "source": [
    "# F\n",
    "print('f. (0.5) Quais diferenças você identifica entre os testes realizados nos blocos 1C e 1D?')\n",
    "print('O teste t e o teste de hotellings se diferenciam na multivariância.')\n",
    "print('Teste t trabalha com casos univariados, portanto é testado se a média variável de Xn é igual a 8, n variando de 1 a 3.')\n",
    "print('Teste de Hotellings trabalha com casos multivariados, podendo inclusive testar vetores de médias entre si. No teste, é validado se todos vetores possuem média variável igual a 8 simultâneamente.')"
   ]
  },
  {
   "cell_type": "markdown",
   "metadata": {},
   "source": [
    "# Q2. (2.5) (He, Zhang, and Zhang 2016) utilizaram a fluorescência de raios-X (ED-XRF) para determinar a composição química de cerâmicas antigas, detalhadas no banco de dados [Composição Química de Amostras Cerâmicas](https://www.sciencedirect.com/science/article/abs/pii/S0272884215023135?via%3Dihub)."
   ]
  },
  {
   "cell_type": "code",
   "execution_count": 53,
   "metadata": {},
   "outputs": [
    {
     "name": "stdout",
     "output_type": "stream",
     "text": [
      "a. (0.5) Considerando os métodos ‘wss’ (within sums of squares) e ‘silhouette’ do BLOCO 2B, determine k, o número ótimo de clusters.\n",
      "\n",
      "K = 2\n",
      "Para Silhouette, quanto maior o tamanho médio da silhueta, melhor.\n",
      "Para WSS, usualmente é escolhido o ponto onde ocorre a mudança de declividade da curva.\n"
     ]
    }
   ],
   "source": [
    "print('a. (0.5) Considerando os métodos ‘wss’ (within sums of squares) e ‘silhouette’ do BLOCO 2B, determine k, o número ótimo de clusters.\\n')\n",
    "print('K = 2')\n",
    "print('Para Silhouette, quanto maior o tamanho médio da silhueta, melhor.')\n",
    "print('Para WSS, usualmente é escolhido o ponto onde ocorre a mudança de declividade da curva.')"
   ]
  },
  {
   "cell_type": "code",
   "execution_count": null,
   "metadata": {},
   "outputs": [],
   "source": []
  },
  {
   "cell_type": "code",
   "execution_count": 54,
   "metadata": {},
   "outputs": [
    {
     "name": "stdout",
     "output_type": "stream",
     "text": [
      "b. (0.5) Utilizando o resultado do item anterior, circule no BLOCO 2C com lápis, caneta ou virtualmente os k grupos determinados no item anterior.\n",
      "\n"
     ]
    },
    {
     "data": {
      "image/png": "[encoded data removed]",
      "text/plain": [
       "<IPython.core.display.Image object>"
      ]
     },
     "execution_count": 54,
     "metadata": {},
     "output_type": "execute_result"
    }
   ],
   "source": [
    "print('b. (0.5) Utilizando o resultado do item anterior, circule no BLOCO 2C com lápis, caneta ou virtualmente os k grupos determinados no item anterior.\\n')\n",
    "from IPython.display import Image\n",
    "Image(filename='Q3b.png')"
   ]
  },
  {
   "cell_type": "code",
   "execution_count": 55,
   "metadata": {},
   "outputs": [
    {
     "name": "stdout",
     "output_type": "stream",
     "text": [
      "c. (0.5) Explique o que ocorre nos comandos prcomp(dat[,-(1:2)]) e prcomp(dat[,-(1:2)], scale =TRUE) do BLOCO 2D.\n",
      "\n",
      "É feito o cálculo de componentes principais de todo conjunto 'dat', exceto as colunas 1 e 2.\n",
      "no segundo comando, é feita a normalização dos dados a partir do comando 'scale=TRUE'\n"
     ]
    }
   ],
   "source": [
    "print('c. (0.5) Explique o que ocorre nos comandos prcomp(dat[,-(1:2)]) e prcomp(dat[,-(1:2)], scale =TRUE) do BLOCO 2D.\\n')\n",
    "print('É feito o cálculo de componentes principais de todo conjunto \\'dat\\', exceto as colunas 1 e 2.')\n",
    "print('no segundo comando, é feita a normalização dos dados a partir do comando \\'scale=TRUE\\'')"
   ]
  },
  {
   "cell_type": "code",
   "execution_count": null,
   "metadata": {},
   "outputs": [],
   "source": []
  },
  {
   "cell_type": "code",
   "execution_count": 56,
   "metadata": {},
   "outputs": [
    {
     "name": "stdout",
     "output_type": "stream",
     "text": [
      "d. (0.5) Coloque em ordem decrescente as três variáveis com maior contribuição para a PC1, usando a saídado BLOCO 2D\n",
      "\n",
      "1.Al2O3=0.37313171 : 2.CaO=-0.36096192 : 3.Sr0=-0.34865074\n"
     ]
    }
   ],
   "source": [
    "print('d. (0.5) Coloque em ordem decrescente as três variáveis com maior contribuição para a PC1, usando a saídado BLOCO 2D\\n')\n",
    "print('1.Al2O3=0.37313171 : 2.CaO=-0.36096192 : 3.Sr0=-0.34865074')"
   ]
  },
  {
   "cell_type": "code",
   "execution_count": 43,
   "metadata": {},
   "outputs": [
    {
     "name": "stdout",
     "output_type": "stream",
     "text": [
      "e. (0.5) Considerando o gráfico das duas primeira componentes principais do BLOCO 2E, você considera que estas duas dimensões são úteis para diferenciar as partes da cerâmica (Body/Glaze ou Corpo/Verniz)? Que pontos de corte você sugere em cada dimesão dos gráficos?\n",
      "\n"
     ]
    }
   ],
   "source": [
    "print('e. (0.5) Considerando o gráfico das duas primeira componentes principais do BLOCO 2E, você considera que estas duas dimensões são úteis para diferenciar as partes da cerâmica (Body/Glaze ou Corpo/Verniz)? Que pontos de corte você sugere em cada dimesão dos gráficos?\\n')"
   ]
  },
  {
   "cell_type": "markdown",
   "metadata": {},
   "source": [
    "# Q3. (2.5) Ainda com os dados da Questão 2, responda os itens a seguir considerando as informações dos Blocos."
   ]
  },
  {
   "cell_type": "code",
   "execution_count": 44,
   "metadata": {},
   "outputs": [
    {
     "name": "stdout",
     "output_type": "stream",
     "text": [
      "a. (0.5) Detalhe o que ocorre no Bloco 3A\n",
      "\n"
     ]
    }
   ],
   "source": [
    "print('a. (0.5) Detalhe o que ocorre no Bloco 3A\\n')"
   ]
  },
  {
   "cell_type": "code",
   "execution_count": 45,
   "metadata": {},
   "outputs": [
    {
     "name": "stdout",
     "output_type": "stream",
     "text": [
      "b. (0.5) O que você diria a respeito do modelo fit0 apresentado no Bloco 3B?\n",
      "\n"
     ]
    }
   ],
   "source": [
    "print('b. (0.5) O que você diria a respeito do modelo fit0 apresentado no Bloco 3B?\\n')"
   ]
  },
  {
   "cell_type": "code",
   "execution_count": 46,
   "metadata": {},
   "outputs": [
    {
     "name": "stdout",
     "output_type": "stream",
     "text": [
      "c. (0.5) O que você diria a respeito da predição do Bloco 3C?\n",
      "\n"
     ]
    }
   ],
   "source": [
    "print('c. (0.5) O que você diria a respeito da predição do Bloco 3C?\\n')"
   ]
  },
  {
   "cell_type": "code",
   "execution_count": 47,
   "metadata": {},
   "outputs": [
    {
     "name": "stdout",
     "output_type": "stream",
     "text": [
      "d. (0.5) Detalhe o que ocorre no Bloco 3D.\n",
      "\n"
     ]
    }
   ],
   "source": [
    "print('d. (0.5) Detalhe o que ocorre no Bloco 3D.\\n')"
   ]
  },
  {
   "cell_type": "code",
   "execution_count": 48,
   "metadata": {},
   "outputs": [
    {
     "name": "stdout",
     "output_type": "stream",
     "text": [
      "e. (0.5) O que você diria a respeito da predição do Bloco 3E? Compare com a predição do item c.\n",
      "\n"
     ]
    }
   ],
   "source": [
    "print('e. (0.5) O que você diria a respeito da predição do Bloco 3E? Compare com a predição do item c.\\n')"
   ]
  },
  {
   "cell_type": "markdown",
   "metadata": {},
   "source": [
    "# Q4. (2.0) No Capítulo 12, Dalgaard (2008) utiliza a base de dados cystfibr, um banco de dados sobre capacidade respiratória discutido por Altman (1991). Abaixo estão as descrições das variáveis observadas, com volumes indicados em decilitros.\n",
    "- **idade**: idade em anos\n",
    "- **sexo**: 0 = masculino, 1 = feminino\n",
    "- **imc**: Índice de Massa Corporal (Peso/Altura²) como um percentual da mediana de indivíduos normais por idade\n",
    "- **vef1**: Volume de Expiração Forçado em 1 segundo\n",
    "- **vr**: Volume Residual, o volume restante de ar nos pulmões após uma expiração forçada\n",
    "- **crf**: Capacidade Residual Funcional, o volume nos pulmões ao final da posição normal de expiração\n",
    "- **cpt**: Capacidade Pulmonar Total\n",
    "- **pemax**: Pressão expiratória estática máxima, variável dependente que indica a saúde do sistema respiratório (maior, melhor)\n"
   ]
  },
  {
   "cell_type": "code",
   "execution_count": 49,
   "metadata": {},
   "outputs": [
    {
     "name": "stdout",
     "output_type": "stream",
     "text": [
      "a. (0.5) Explique o que os gráficos do BLOCO A indicam. O que significam os percentuais nos eixos?\n",
      "\n"
     ]
    }
   ],
   "source": [
    "print('a. (0.5) Explique o que os gráficos do BLOCO A indicam. O que significam os percentuais nos eixos?\\n')"
   ]
  },
  {
   "cell_type": "code",
   "execution_count": 50,
   "metadata": {},
   "outputs": [
    {
     "name": "stdout",
     "output_type": "stream",
     "text": [
      "b. (0.5) Indique o que ocorre nos BLOCOS B, C e D, explicando também a relação entre eles\n",
      "\n"
     ]
    }
   ],
   "source": [
    "print('b. (0.5) Indique o que ocorre nos BLOCOS B, C e D, explicando também a relação entre eles\\n')"
   ]
  },
  {
   "cell_type": "code",
   "execution_count": 51,
   "metadata": {},
   "outputs": [
    {
     "name": "stdout",
     "output_type": "stream",
     "text": [
      "c. (0.5) Aponte duas melhorias do modelo do BLOCO E em relação ao modelo do BLOCO D.\n",
      "\n"
     ]
    }
   ],
   "source": [
    "print('c. (0.5) Aponte duas melhorias do modelo do BLOCO E em relação ao modelo do BLOCO D.\\n')"
   ]
  },
  {
   "cell_type": "code",
   "execution_count": 52,
   "metadata": {},
   "outputs": [
    {
     "name": "stdout",
     "output_type": "stream",
     "text": [
      "d. (0.5) Interprete os coeficientes estimados no modelo do BLOCO E.\n",
      "\n"
     ]
    }
   ],
   "source": [
    "print('d. (0.5) Interprete os coeficientes estimados no modelo do BLOCO E.\\n')"
   ]
  }
 ],
 "metadata": {
  "kernelspec": {
   "display_name": "cpa",
   "language": "python",
   "name": "python3"
  },
  "language_info": {
   "codemirror_mode": {
    "name": "ipython",
    "version": 3
   },
   "file_extension": ".py",
   "mimetype": "text/x-python",
   "name": "python",
   "nbconvert_exporter": "python",
   "pygments_lexer": "ipython3",
   "version": "3.10.11"
  }
 },
 "nbformat": 4,
 "nbformat_minor": 2
}
