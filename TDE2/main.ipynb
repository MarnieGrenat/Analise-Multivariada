{
 "cells": [
  {
   "cell_type": "markdown",
   "metadata": {},
   "source": [
    "# Trabalho 2 de Análise Multivariada\n",
    "Versão: 2024/10/09\n",
    "Autores: Gabriela Dellamora, Leonardo Ripes e Luize Iensse"
   ]
  },
  {
   "cell_type": "code",
   "execution_count": 77,
   "metadata": {},
   "outputs": [],
   "source": [
    "import pandas as pd\n",
    "import numpy as np\n",
    "import math"
   ]
  },
  {
   "cell_type": "markdown",
   "metadata": {},
   "source": [
    "# Questão 1 \n",
    "a) (0.5) Considerando a v.a. (X, Y) com distribuição de [Poisson bivariada](https://filipezabala.com/ea/distr-contagem.html#poisson-bivariada), obtenha λˆ1, λˆ2 e λˆ3 por máxima verossimilhança.\n",
    "\n",
    "b) (0.5) A partir do modelo obtido no item a, calcule P(X=2, Y=3). Compare com a probabilidade obtida através da proporção amostral da tabela acima.\n",
    "\n",
    "c) (0.5) A partir do modelo obtido no item a, calcule E(X), E(Y), V(X) e V(Y).\n",
    "\n",
    "d) (0.5) Calcule P(X≤2, Y≥3). Compare com a proporção amostral."
   ]
  },
  {
   "cell_type": "code",
   "execution_count": 38,
   "metadata": {},
   "outputs": [
    {
     "name": "stdout",
     "output_type": "stream",
     "text": [
      "Marginal X = [ 64 131 140  97  48  12   5   3]\n",
      "Marginal Y = [ 71 123 149  92  35  18   9   3]\n",
      "Total = 500\n"
     ]
    }
   ],
   "source": [
    "data = np.array([\n",
    "    [24, 28, 12, 6, 0, 1, 0, 0],\n",
    "    [19, 39, 41, 23, 1, 0, 0, 0],\n",
    "    [12, 45, 47, 29, 12, 3, 1, 0],\n",
    "    [7, 17, 32, 21, 14, 1, 0, 0],\n",
    "    [2, 2, 3, 11, 13, 1, 2, 1],\n",
    "    [0, 0, 3, 6, 4, 2, 2, 1],\n",
    "    [0, 0, 2, 0, 2, 4, 0, 1],\n",
    "    [0, 0, 0, 1, 2, 0, 0, 0],\n",
    "])\n",
    "# Frequências marginais\n",
    "marginal_y = np.sum(data, axis=1)\n",
    "marginal_x = np.sum(data, axis=0)\n",
    "total = np.sum(marginal_x)\n",
    "print(f\"Marginal X = {marginal_x}\")\n",
    "print(f\"Marginal Y = {marginal_y}\")\n",
    "print(f\"Total = {total}\")\n"
   ]
  },
  {
   "cell_type": "code",
   "execution_count": 60,
   "metadata": {},
   "outputs": [
    {
     "name": "stdout",
     "output_type": "stream",
     "text": [
      "λ1=62.50\n",
      "λ2=62.50\n",
      "λ3=1.93\n"
     ]
    }
   ],
   "source": [
    "# Questão A\n",
    "\n",
    "# λ1, λ2\n",
    "lambda_1 = np.sum(marginal_x) / len(marginal_x)  # λ1\n",
    "lambda_2 = np.sum(marginal_y) / len(marginal_y)  # λ2\n",
    "\n",
    "print(f\"λ1={lambda_1:.2f}\")\n",
    "print(f\"λ2={lambda_2:.2f}\")\n",
    "\n",
    "# λ3\n",
    "# médias ponderadas\n",
    "mean_x = np.mean(np.repeat(np.arange(len(marginal_x)), marginal_x))\n",
    "mean_y = np.mean(np.repeat(np.arange(len(marginal_y)), marginal_y))\n",
    "\n",
    "# covariância = 1 / N (E(X, Y) - (E(X) * E(Y))\n",
    "cov_xy = np.sum((np.repeat(np.arange(len(marginal_x)), marginal_x) - mean_x) *\n",
    "                 (np.repeat(np.arange(len(marginal_y)), marginal_y) - mean_y)) / total\n",
    "lambda_3 = cov_xy\n",
    "\n",
    "'''em R:\n",
    "#> cov_xy <- cov(X, Y)\n",
    "#> cov_xy\n",
    "# [1] 1.92982\n",
    "'''\n",
    "\n",
    "print(f\"λ3={lambda_3:.2f}\")"
   ]
  },
  {
   "cell_type": "code",
   "execution_count": 61,
   "metadata": {},
   "outputs": [
    {
     "name": "stdout",
     "output_type": "stream",
     "text": [
      "Probabilidade pelo modelo de Poisson Bivariada=6.001479123174308e-48\n",
      "Proporção amostral=0.058\n",
      "Diferença entre modelo e proporção amostral=0.058\n"
     ]
    }
   ],
   "source": [
    "# Questão B\n",
    "\n",
    "# P(X = x, Y = y)\n",
    "'''calcula a probabilidade bivariada de Poisson'''\n",
    "def poisson_bivariate_prob(x, y, lambda_1, lambda_2, lambda_3):\n",
    "    sum_term = 0\n",
    "    for k in range(0, min(x, y) + 1):\n",
    "        sum_term += (math.comb(x, k) * math.comb(y, k) * math.factorial(k) *\n",
    "                     (lambda_3 / (lambda_1 * lambda_2))**k)\n",
    "    prob = (lambda_1**x * lambda_2**y * math.exp(-lambda_1 - lambda_2 - lambda_3) /\n",
    "            (math.factorial(x) * math.factorial(y))) * sum_term\n",
    "    return prob\n",
    "\n",
    "# P(X = 2, Y = 3)\n",
    "prob_model = poisson_bivariate_prob(2, 3, lambda_1, lambda_2, lambda_3)\n",
    "\n",
    "# proporção amostral\n",
    "n_23 = data[2, 3]  # Contagem de X = 2 e Y = 3\n",
    "total_obs = np.sum(data)\n",
    "\n",
    "prob_sample = n_23 / total_obs\n",
    "\n",
    "# Comparação dos resultados\n",
    "difference = abs(prob_model - prob_sample)\n",
    "\n",
    "''' EM R:\n",
    "> prob_model <- dbvpois(2, 3, a, b, c)\n",
    "> print(paste(\"Probabilidade pela Poisson Bivariada: \", prob_model))\n",
    "[1] \"Probabilidade pela Poisson Bivariada:  5.97839559506662e-48\"\n",
    "> # proporção amostral\n",
    "> n_23 <- data[3, 4]\n",
    "> N <- sum(data)\n",
    "> prob_sample <- n_23 / N\n",
    "> print(paste(\"Proporção amostral P(X=2, Y=3): \", prob_sample))\n",
    "[1] \"Proporção amostral P(X=2, Y=3):  0.058\"\n",
    "> # Comparar os resultados\n",
    "> difference <- abs(prob_model - prob_sample)\n",
    "> print(paste(\"Diferença entre o modelo e a proporção amostral: \", difference))\n",
    "[1] \"Diferença entre o modelo e a proporção amostral:  0.058\"\n",
    "'''\n",
    "\n",
    "print(f\"Probabilidade pelo modelo de Poisson Bivariada={prob_model}\")\n",
    "print(f\"Proporção amostral={prob_sample}\")\n",
    "print(f\"Diferença entre modelo e proporção amostral={difference}\")\n",
    "\n"
   ]
  },
  {
   "cell_type": "code",
   "execution_count": 63,
   "metadata": {},
   "outputs": [
    {
     "name": "stdout",
     "output_type": "stream",
     "text": [
      "E(X)=64.42596 : E(Y)=64.42596 : V(X)=64.42596 : V(Y)=64.42596\n"
     ]
    }
   ],
   "source": [
    "# Questão C\n",
    "\n",
    "E_X = lambda_1 + lambda_3\n",
    "E_Y = lambda_2 + lambda_3\n",
    "\n",
    "V_X = lambda_1 + lambda_3\n",
    "V_Y = lambda_2 + lambda_3\n",
    "\n",
    "E_X, E_Y, V_X, V_Y\n",
    "print(f\"E(X)={E_X} : E(Y)={E_Y} : V(X)={V_X} : V(Y)={V_Y}\")"
   ]
  },
  {
   "cell_type": "code",
   "execution_count": 66,
   "metadata": {},
   "outputs": [
    {
     "name": "stdout",
     "output_type": "stream",
     "text": [
      "Probabilidade pelo Modelo de Poisson Bivariada=1.2695260335622792e-43\n",
      "Proporção Amostral=0.152\n",
      "Diferença 0.152\n"
     ]
    }
   ],
   "source": [
    "# Calcular P(X ≤ 2, Y ≥ 3)\n",
    "total_prob = 0\n",
    "for x in range(3):       # X <= 2\n",
    "    for y in range(3, 8):  # Y >= 3\n",
    "        total_prob += poisson_bivariate_prob(x, y, lambda_1, lambda_2, lambda_3)\n",
    "\n",
    "# Calcular a proporção amostral\n",
    "data_points = [(x, y) for x in range(3) for y in range(3, 8)]\n",
    "total_count = sum(data[x, y] for x, y in data_points)\n",
    "sample_proportion = total_count / total_obs\n",
    "'''em R\n",
    "> total_prob <- 0\n",
    "> for (x in 0:2) {  # X <= 2\n",
    "+   for (y in 3:7) {  # Y >= 3\n",
    "+     total_prob <- total_prob + dbvpois(x, y, a, b, c)\n",
    "[1] \"Probabilidade pelo modelo de Poisson Bivariada P(X <= 2, Y >= 3):  1.26465241621426e-43\"\n",
    "\n",
    "\n",
    "> total_count <- sum(data[1:3, 4:8])  # Somando para X <= 2 e Y >= 3\n",
    "> N <- sum(data)  # Total de observações\n",
    "> prob_sample <- total_count / N\n",
    "> print(paste(\"Proporção amostral P(X <= 2, Y >= 3): \", prob_sample))\n",
    "[1] \"Proporção amostral P(X <= 2, Y >= 3):  0.152\"\n",
    "\n",
    "> difference <- abs(total_prob - prob_sample)\n",
    "> print(paste(\"Diferença entre o modelo e a proporção amostral: \", difference))\n",
    "[1] \"Diferença entre o modelo e a proporção amostral:  0.152\"\n",
    "'''\n",
    "\n",
    "print(f\"Probabilidade pelo Modelo de Poisson Bivariada={total_prob}\")\n",
    "print(f\"Proporção Amostral={sample_proportion}\")\n",
    "print(f\"Diferença={abs(total_prob - sample_proportion)}\")"
   ]
  },
  {
   "cell_type": "markdown",
   "metadata": {},
   "source": [
    "# Questão 2\n",
    "Com base nas informações do estudo e considerando que 7 pessoas forem escolhidas aleatoriamente, responda:\n",
    "\n",
    "a) (1.0) Qual a probabilidade de que uma tenha sangue do tipo A, uma do B, duas do AB e três do O?\n",
    "\n",
    "b) (1.0) Qual a probabilidade de que todas tenham sangue do tipo A?\n",
    "\n",
    "c) (1.0) Qual a probabilidade de que todas tenham o mesmo tipo de sangue?"
   ]
  },
  {
   "cell_type": "code",
   "execution_count": 69,
   "metadata": {},
   "outputs": [
    {
     "name": "stdout",
     "output_type": "stream",
     "text": [
      "A probabilidade de que exatamente uma pessoa tenha sangue do tipo A, uma do tipo B, duas do tipo AB e três do tipo O é 0.003320525376\n"
     ]
    }
   ],
   "source": [
    "# Questão A\n",
    "\n",
    "n = 7\n",
    "p_A = 0.35\n",
    "p_B = 0.12\n",
    "p_AB = 0.04\n",
    "p_O = 0.49\n",
    "\n",
    "k_A = 1\n",
    "k_B = 1\n",
    "k_AB = 2\n",
    "k_O = 3\n",
    "\n",
    "# probabilidade multinomial\n",
    "prob = (math.factorial(n) / (math.factorial(k_A) * math.factorial(k_B) * math.factorial(k_AB) * math.factorial(k_O))) * \\\n",
    "       (p_A**k_A) * (p_B**k_B) * (p_AB**k_AB) * (p_O**k_O)\n",
    "\n",
    "print(f\"A probabilidade de que exatamente uma pessoa tenha sangue do tipo A, uma do tipo B, duas do tipo AB e três do tipo O é {prob}\")"
   ]
  },
  {
   "cell_type": "code",
   "execution_count": 71,
   "metadata": {},
   "outputs": [
    {
     "name": "stdout",
     "output_type": "stream",
     "text": [
      "A probabilidade de que todas as 7 pessoas tenham sangue do tipo A é aproximadamente 0.0006433929687499997\n"
     ]
    }
   ],
   "source": [
    "# Questão B\n",
    "k_A = 7\n",
    "k_B = 0\n",
    "k_AB = 0\n",
    "k_O = 0\n",
    "\n",
    "prob = (math.factorial(n) / (math.factorial(k_A) * math.factorial(k_B) * math.factorial(k_AB) * math.factorial(k_O))) * \\\n",
    "       (p_A**k_A) * (p_B**k_B) * (p_AB**k_AB) * (p_O**k_O)\n",
    "\n",
    "print(f\"A probabilidade de que todas as 7 pessoas tenham sangue do tipo A é aproximadamente {prob}\")"
   ]
  },
  {
   "cell_type": "code",
   "execution_count": 73,
   "metadata": {},
   "outputs": [
    {
     "name": "stdout",
     "output_type": "stream",
     "text": [
      "A probabilidade de que todas as 7 pessoas tenham o mesmo tipo de sangue é 0.007425982179159999\n"
     ]
    }
   ],
   "source": [
    "prob_all_same = (p_A ** n) + (p_B ** n) + (p_AB ** n) + (p_O ** n)\n",
    "prob_all_same\n",
    "print(f\"A probabilidade de que todas as 7 pessoas tenham o mesmo tipo de sangue é {prob_all_same}\")"
   ]
  }
 ],
 "metadata": {
  "kernelspec": {
   "display_name": "cpa",
   "language": "python",
   "name": "python3"
  },
  "language_info": {
   "codemirror_mode": {
    "name": "ipython",
    "version": 3
   },
   "file_extension": ".py",
   "mimetype": "text/x-python",
   "name": "python",
   "nbconvert_exporter": "python",
   "pygments_lexer": "ipython3",
   "version": "3.10.11"
  }
 },
 "nbformat": 4,
 "nbformat_minor": 2
}
